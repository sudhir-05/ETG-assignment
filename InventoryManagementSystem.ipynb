{
 "cells": [
  {
   "cell_type": "markdown",
   "metadata": {
    "colab_type": "text",
    "id": "view-in-github"
   },
   "source": [
    "<a href=\"https://colab.research.google.com/github/xpes/ETG-InventoryManagementSystem/blob/main/InventoryManagementSystem.ipynb\" target=\"_parent\"><img src=\"https://colab.research.google.com/assets/colab-badge.svg\" alt=\"Open In Colab\"/></a>"
   ]
  },
  {
   "cell_type": "markdown",
   "metadata": {
    "id": "QuS-N_ZZWxPy"
   },
   "source": [
    "## STEP 1:Run this Part to initialize the program and select the Products to Add:"
   ]
  },
  {
   "cell_type": "code",
   "execution_count": 1,
   "metadata": {
    "colab": {
     "base_uri": "https://localhost:8080/"
    },
    "id": "SR-GQREQWhS-",
    "outputId": "7800e3d5-9b5b-4d0d-ce3e-324b4028f9cc"
   },
   "outputs": [
    {
     "name": "stdout",
     "output_type": "stream",
     "text": [
      "Enter Customer Name :sudhir\n",
      "Enter total no of different products : 2\n",
      "*****************\n",
      "Enter the product ID :3\n",
      "Enter the quantity of product :3\n",
      "--> Product :  NIKE - TSHIRT ( BLACK x 3 )   <--\n",
      "*****************\n",
      "Enter the product ID :2\n",
      "Enter the quantity of product :4\n",
      "--> Product :  NIKE - TSHIRT ( BLUE x 4 )   <--\n"
     ]
    }
   ],
   "source": [
    "import json\n",
    "a_file = open(\"records.json\", \"r\")\n",
    "json_object = json.load(a_file)\n",
    "a_file.close()\n",
    "\n",
    "\n",
    "temp = {}\n",
    "\n",
    "\n",
    "name = input(\"Enter Customer Name :\")\n",
    "no = int(input(\"Enter total no of different products : \"))\n",
    "\n",
    "for x in range(no):\n",
    "    \n",
    "        print(\"*****************\")\n",
    "        id1 = input(\"Enter the product ID :\")\n",
    "\n",
    "        quantity = int(input(\"Enter the quantity of product :\"))\n",
    "        \n",
    "        if quantity > int(json_object[id1]['QUANTITY']):\n",
    "            \n",
    "            print(\"Product not available in given quantity\")\n",
    "            print(\"Remaining Quantity : \",int(json_object[id1]['QUANTITY']))\n",
    "\n",
    "                 \n",
    "        else :\n",
    "              \n",
    "            print(\"--> Product : \",json_object[id1]['NAME'],\"-\",json_object[id1]['TYPE'],\"(\",json_object[id1]['COLOR'],\n",
    "                  \"x\",quantity,\")   <--\")\n",
    "            \n",
    "            \n",
    "            temp[id1] = quantity"
   ]
  },
  {
   "cell_type": "markdown",
   "metadata": {
    "id": "AuPc7tSrXBe-"
   },
   "source": [
    "## STEP 2:Run this part to Generate Bill And show Total Amount this also saves the sales data into a json file"
   ]
  },
  {
   "cell_type": "code",
   "execution_count": 3,
   "metadata": {
    "colab": {
     "base_uri": "https://localhost:8080/"
    },
    "id": "0q3VDqw0WhS_",
    "outputId": "bb4a738f-95bb-4509-ccb5-f0b1491414af"
   },
   "outputs": [
    {
     "name": "stdout",
     "output_type": "stream",
     "text": [
      "************************************\n",
      "BILL GENERATED\n",
      "Name : sudhir\n",
      "Mon Sep  6 19:51:03 2021\n",
      "------------------------------------\n",
      "Products :\n",
      "------------------------------------\n",
      "NIKE - TSHIRT ( BLACK ) X 4\n",
      "            Price= 1974.0 Rs ( 6.0 % Off)\n",
      "\n",
      "NIKE - TSHIRT ( BLUE ) X 4\n",
      "            Price= 2604.0 Rs ( 7.0 % Off)\n",
      "\n",
      "------------------------------------\n",
      "Total = 4578.0 Rs\n",
      "************************************\n"
     ]
    }
   ],
   "source": [
    "import time\n",
    "time.ctime()\n",
    "\n",
    "total_price = 0\n",
    "\n",
    "import json\n",
    "d_file = open(\"sales.json\", \"r\")\n",
    "sales = json.load(d_file)\n",
    "d_file.close()\n",
    "\n",
    "sales[time.ctime()] = {}\n",
    "\n",
    "print(\"************************************\")\n",
    "print(\"BILL GENERATED\")\n",
    "print(\"Name :\",name )\n",
    "print(time.ctime())\n",
    "print(\"------------------------------------\")\n",
    "print(\"Products :\")\n",
    "print(\"------------------------------------\")\n",
    "\n",
    "for i in temp:\n",
    "    \n",
    "    #updating product data in json file\n",
    "    json_object[i]['QUANTITY'] = int(json_object[i]['QUANTITY']) - temp[i]\n",
    "    a_file = open(\"records.json\", \"w\")\n",
    "    json.dump(json_object, a_file)\n",
    "    a_file.close()\n",
    "          \n",
    "    #generating data for sales file    \n",
    "    nm = json_object[i]['NAME']+\" \"+json_object[i]['TYPE']+\" \"+json_object[i]['COLOR']\n",
    "    sales[time.ctime()][nm] = temp[i] \n",
    "    \n",
    "    #final price after data\n",
    "    int_price = float(json_object[i]['PRICE'])\n",
    "    discount = float(json_object[i]['DISCOUNT'])\n",
    "    final_price = (int_price*temp[i])*(100-discount)/100.00\n",
    "\n",
    "    final_price = round(final_price,2)\n",
    "    \n",
    "    print(json_object[i]['NAME'],\"-\",json_object[i]['TYPE'],\"(\",json_object[i]['COLOR'],\n",
    "          \") X\",quantity )\n",
    "    print(\"            Price=\",final_price,\"Rs (\",discount,\"% Off)\")\n",
    "    print(\"\")\n",
    "    \n",
    "    \n",
    "    total_price = total_price + final_price\n",
    "\n",
    "\n",
    "sales[time.ctime()][\"Total\"] = total_price \n",
    "sales[time.ctime()][\"Name\"] = name\n",
    "\n",
    "\n",
    "print(\"------------------------------------\")\n",
    "print(\"Total =\",total_price,\"Rs\")\n",
    "print(\"************************************\")\n",
    "\n",
    "import json\n",
    "with open(\"sales.json\", \"w\") as outfile:\n",
    "    json.dump(sales, outfile, indent=1)"
   ]
  },
  {
   "cell_type": "code",
   "execution_count": null,
   "metadata": {},
   "outputs": [],
   "source": []
  }
 ],
 "metadata": {
  "colab": {
   "collapsed_sections": [
    "9yuJCcpVWip-",
    "QuS-N_ZZWxPy",
    "AuPc7tSrXBe-",
    "PhQQjT-5XTc2",
    "3MM8n-MdYD92"
   ],
   "include_colab_link": true,
   "name": "InventoryManagementSystem.ipynb",
   "provenance": [],
   "toc_visible": true
  },
  "kernelspec": {
   "display_name": "Python 3",
   "language": "python",
   "name": "python3"
  },
  "language_info": {
   "codemirror_mode": {
    "name": "ipython",
    "version": 3
   },
   "file_extension": ".py",
   "mimetype": "text/x-python",
   "name": "python",
   "nbconvert_exporter": "python",
   "pygments_lexer": "ipython3",
   "version": "3.8.8"
  }
 },
 "nbformat": 4,
 "nbformat_minor": 1
}
