{
 "cells": [
  {
   "cell_type": "markdown",
   "metadata": {
    "colab_type": "text",
    "id": "view-in-github"
   },
   "source": [
    "<a href=\"https://colab.research.google.com/github/xpes/ETG-InventoryManagementSystem/blob/main/Adding%20products%20back%20to%20inventory.ipynb\" target=\"_parent\"><img src=\"https://colab.research.google.com/assets/colab-badge.svg\" alt=\"Open In Colab\"/></a>"
   ]
  },
  {
   "cell_type": "markdown",
   "metadata": {},
   "source": [
    "## STEP1 : Run this to add products to inventory"
   ]
  },
  {
   "cell_type": "code",
   "execution_count": 1,
   "metadata": {
    "id": "7CdT7938Qw5H"
   },
   "outputs": [
    {
     "name": "stdout",
     "output_type": "stream",
     "text": [
      "Enter total no of products to add: 3\n",
      "Enter the product ID :3\n",
      "Enter the quantity of product :3\n",
      "Enter the product ID :3\n",
      "Enter the quantity of product :2\n",
      "Enter the product ID :2\n",
      "Enter the quantity of product :5\n"
     ]
    }
   ],
   "source": [
    "\n",
    "import json\n",
    "a_file = open(\"records.json\", \"r\")\n",
    "json_object = json.load(a_file)\n",
    "a_file.close()\n",
    "\n",
    "\n",
    "no2 = int(input(\"Enter total no of products to add: \"))\n",
    "\n",
    "for x in range(no2):\n",
    "    \n",
    "        id2 = input(\"Enter the product ID :\")\n",
    "        quantity1 = int(input(\"Enter the quantity of product :\"))\n",
    "        \n",
    "        json_object[id2]['QUANTITY'] = int(json_object[id2]['QUANTITY']) + quantity1\n",
    "        c_file = open(\"records.json\", \"w\")\n",
    "        json.dump(json_object, c_file)\n",
    "        c_file.close()"
   ]
  },
  {
   "cell_type": "markdown",
   "metadata": {},
   "source": [
    "## STEP 2: Run this to view all products in inventory "
   ]
  },
  {
   "cell_type": "code",
   "execution_count": 4,
   "metadata": {
    "id": "FDlpsbzGQ1fG",
    "scrolled": true
   },
   "outputs": [
    {
     "name": "stdout",
     "output_type": "stream",
     "text": [
      "----------------INVENTORY---------------------\n",
      "ID\tProduct\t\t\t\t PRICE\t\tQuantity\n",
      "\n",
      "1 \t NIKE  TSHIRT  RED \t\t 700 - 8 \t 12\n",
      "2 \t NIKE  TSHIRT  BLUE \t\t 700 - 7 \t 21\n",
      "3 \t NIKE  TSHIRT  BLACK \t\t 700 - 6 \t 20\n",
      "4 \t NIKE  PANTS  RED \t\t 900 - 8 \t 10\n",
      "5 \t NIKE  PANTS  BLUE \t\t 900 - 7 \t 4\n",
      "6 \t NIKE  PANTS  BLACK \t\t 900 - 6 \t 19\n",
      "7 \t ADIDAS  TSHIRT  RED \t\t 650 - 8 \t 15\n",
      "8 \t ADIDAS  TSHIRT  BLUE \t\t 650 - 7 \t 14\n",
      "9 \t ADIDAS  TSHIRT  BLACK \t\t 650 - 6 \t 16\n",
      "10 \t ADIDAS  PANTS  RED \t\t 850 - 8 \t 12\n",
      "11 \t ADIDAS  PANTS  BLUE \t\t 850 - 7 \t 15\n",
      "12 \t ADIDAS  PANTS  BLACK \t\t 850 - 6 \t 6\n",
      "13 \t PUMA  TSHIRT  RED \t\t 600 - 8 \t 2\n",
      "14 \t PUMA  TSHIRT  BLUE \t\t 600 - 7 \t 4\n",
      "15 \t PUMA  TSHIRT  BLACK \t\t 600 - 6 \t 15\n",
      "16 \t PUMA  PANTS  RED \t\t 900 - 8 \t 8\n",
      "17 \t PUMA  PANTS  BLUE \t\t 900 - 7 \t 4\n",
      "18 \t PUMA  PANTS  BLACK \t\t 900 - 6 \t 5\n",
      "19 \t HRX  TSHIRT  RED \t\t 500 - 8 \t 4\n",
      "20 \t HRX  TSHIRT  BLUE \t\t 500 - 7 \t 6\n",
      "21 \t HRX  TSHIRT  BLACK \t\t 500 - 6 \t 4\n",
      "22 \t HRX  PANTS  RED \t\t 750 - 8 \t 5\n",
      "23 \t HRX  PANTS  BLUE \t\t 750 - 7 \t 9\n",
      "24 \t HRX  PANTS  BLACK \t\t 750 - 6 \t 10\n",
      "25 \t REEBOK  TSHIRT  RED \t\t 550 - 8 \t 4\n",
      "26 \t REEBOK  TSHIRT  BLUE \t\t 550 - 7 \t 6\n",
      "27 \t REEBOK  TSHIRT  BLACK \t\t 550 - 6 \t 4\n",
      "28 \t REEBOK  PANTS  RED \t\t 800 - 8 \t 5\n",
      "29 \t REEBOK  PANTS  BLUE \t\t 800 - 7 \t 9\n",
      "30 \t REEBOK  PANTS  BLACK \t\t 800 - 6 \t 10\n"
     ]
    }
   ],
   "source": [
    "print(\"----------------INVENTORY---------------------\")\n",
    "print(\"ID\\tProduct\\t\\t\\t\\t PRICE\\t\\tQuantity\")\n",
    "print(\"\")\n",
    "for i in json_object:\n",
    "    print(json_object[i]['ID'],\"\\t\", json_object[i]['NAME'],\"\",json_object[i]['TYPE'],\"\",json_object[i]['COLOR'],\"\\t\\t\",json_object[i]['PRICE'],\"-\",json_object[i]['DISCOUNT'],\"\\t\",json_object[i]['QUANTITY'])"
   ]
  },
  {
   "cell_type": "code",
   "execution_count": null,
   "metadata": {},
   "outputs": [],
   "source": []
  }
 ],
 "metadata": {
  "colab": {
   "authorship_tag": "ABX9TyPo+K/5ne5jBFxwbXj6qexd",
   "include_colab_link": true,
   "name": "Untitled1.ipynb",
   "provenance": []
  },
  "kernelspec": {
   "display_name": "Python 3",
   "language": "python",
   "name": "python3"
  },
  "language_info": {
   "codemirror_mode": {
    "name": "ipython",
    "version": 3
   },
   "file_extension": ".py",
   "mimetype": "text/x-python",
   "name": "python",
   "nbconvert_exporter": "python",
   "pygments_lexer": "ipython3",
   "version": "3.8.8"
  }
 },
 "nbformat": 4,
 "nbformat_minor": 1
}
